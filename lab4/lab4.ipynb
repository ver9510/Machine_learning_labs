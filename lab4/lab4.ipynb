{
 "cells": [
  {
   "cell_type": "markdown",
   "metadata": {},
   "source": [
    "**Лабораторная работа №4**  \n",
    "**Метод опорных векторов**  \n",
    "Выполнила: Иппо Вера, гр. P4117  \n",
    "\n",
    "**Цель работы:** получить практические навыки работы с методом дискриминантного анализа и визуализацией данных на практических примерах с использованием языка программирования python.  \n",
    "\n",
    "**Исходные данные**\n",
    "Датасет: https://archive.ics.uci.edu/ml/datasets/Letter+Recognition  \n",
    "Предметная область: буквы латинского алфавиита  \n",
    "Задача: определить, какой из букв латинского алфавита соответствует набор характеристик ее написания.  \n",
    "Количество записей: 20000  \n",
    "Количество атрибутов: 16  \n",
    "\n",
    "**Атрибуты:**  \n",
    "1. lettr capital letter (26 values from A to Z)  \n",
    "2. x-box horizontal position of box (integer)  \n",
    "3. y-box vertical position of box (integer)  \n",
    "4. width width of box (integer)  \n",
    "5. high height of box (integer)  \n",
    "6. onpix total # on pixels (integer)  \n",
    "7. x-bar mean x of on pixels in box (integer)  \n",
    "8. y-bar mean y of on pixels in box (integer)  \n",
    "9. x2bar mean x variance (integer)  \n",
    "10. y2bar mean y variance (integer)  \n",
    "11. xybar mean x y correlation (integer)  \n",
    "12. x2ybr mean of x * x * y (integer)  \n",
    "13. xy2br mean of x * y * y (integer)  \n",
    "14. x-ege mean edge count left to right (integer)  \n",
    "15. xegvy correlation of x-ege with y (integer)  \n",
    "16. y-ege mean edge count bottom to top (integer)   \n",
    "17. yegvx correlation of y-ege with x (integer)  \n"
   ]
  },
  {
   "cell_type": "code",
   "execution_count": 15,
   "metadata": {},
   "outputs": [],
   "source": [
    "import pandas\n",
    "from sklearn.model_selection import train_test_split\n",
    "from sklearn import svm\n",
    "from time import time"
   ]
  },
  {
   "cell_type": "code",
   "execution_count": 11,
   "metadata": {},
   "outputs": [],
   "source": [
    "#загрузка датасета\n",
    "def load_dataset(filename):\n",
    "\tcsv_dataset = pandas.read_csv(filename, header=None).values\n",
    "\tdataset=csv_dataset\n",
    "\treturn dataset\n",
    "\t\n",
    "#разбиение на обучающую и тестовую выборки\n",
    "def split_dataset(dataset,test_size):\n",
    "\tletter_attr = dataset[:,1:] # список атрибутов (признаков) для каждой буквы\n",
    "\tletter_class = dataset[:,0] # классы букв\n",
    "\tdata_train, data_test, class_train, class_test = train_test_split(letter_attr, letter_class, test_size=test_size)\n",
    "\treturn data_train, class_train, data_test, class_test\n",
    "\n",
    "dataset = load_dataset(\"letter-recognition.csv\")\n",
    "data_train, class_train, data_test, class_test = split_dataset(dataset,0.4)"
   ]
  },
  {
   "cell_type": "markdown",
   "metadata": {},
   "source": [
    "**Сравнение по ядру**"
   ]
  },
  {
   "cell_type": "code",
   "execution_count": 17,
   "metadata": {},
   "outputs": [],
   "source": [
    "def calcLinearKernel(data_train, class_train, data_test, class_test):\n",
    "    # Ядро Linear\n",
    "    t0 = time()\n",
    "    linear = svm.SVC(kernel=\"linear\").fit(data_train, class_train)\n",
    "    print(\"Затраченное время:\", time() - t0, \"c.\")\n",
    "    print(\"Точность ядра Linear: {:.2%}\".format(linear.score(data_test, class_test)))"
   ]
  },
  {
   "cell_type": "code",
   "execution_count": 20,
   "metadata": {},
   "outputs": [
    {
     "name": "stdout",
     "output_type": "stream",
     "text": [
      "Затраченное время: 5.455849647521973 c.\n",
      "Точность ядра Linear: 84.72%\n"
     ]
    }
   ],
   "source": [
    "calcLinearKernel(data_train, class_train, data_test, class_test)"
   ]
  },
  {
   "cell_type": "code",
   "execution_count": 21,
   "metadata": {},
   "outputs": [
    {
     "name": "stdout",
     "output_type": "stream",
     "text": [
      "Затраченное время: 13.619396924972534 c.\n",
      "Точность ядра RBF: 96.54%\n"
     ]
    }
   ],
   "source": [
    "def calcRBFKernel(data_train, class_train, data_test, class_test):\n",
    "    # Ядро RBF\n",
    "    t1 = time()\n",
    "    rbf = svm.SVC(kernel=\"rbf\").fit(data_train, class_train)\n",
    "    print(\"Затраченное время:\", time() - t1, \"c.\")\n",
    "    print(\"Точность ядра RBF: {:.2%}\".format(rbf.score(data_test, class_test)))\n",
    "\n",
    "calcRBFKernel(data_train, class_train, data_test, class_test)"
   ]
  },
  {
   "cell_type": "code",
   "execution_count": 23,
   "metadata": {},
   "outputs": [
    {
     "name": "stdout",
     "output_type": "stream",
     "text": [
      "Затраченное время:  14.770133972167969 c.\n",
      "Точность ядра Sigmoid: 3.76%\n"
     ]
    }
   ],
   "source": [
    "def calcSigmoldKernel(data_train, class_train, data_test, class_test):\n",
    "    # Ядро Sigmoid\n",
    "    t2 = time()\n",
    "    sigmoid = svm.SVC(kernel=\"sigmoid\").fit(data_train, class_train)\n",
    "    print(\"Затраченное время: \", time() - t2, \"c.\")\n",
    "    print(\"Точность ядра Sigmoid: {:.2%}\".format(sigmoid.score(data_test, class_test)))\n",
    "\n",
    "calcSigmoldKernel(data_train, class_train, data_test, class_test)"
   ]
  },
  {
   "cell_type": "markdown",
   "metadata": {},
   "source": [
    "**Сравнение по параметру С**"
   ]
  },
  {
   "cell_type": "code",
   "execution_count": 28,
   "metadata": {},
   "outputs": [],
   "source": [
    "def calcWhenC(data_train, class_train, data_test, class_test,c):\n",
    "    linearC = svm.SVC(kernel=\"linear\",C=c).fit(data_train, class_train)\n",
    "    rbfC = svm.SVC(kernel=\"rbf\",C=c).fit(data_train, class_train)\n",
    "    sigmoidC = svm.SVC(kernel=\"sigmoid\",C=c).fit(data_train, class_train)\n",
    "    print(\"C = \",c)\n",
    "    print(\"Точность ядра Linear: {:.2%}\".format(linearC.score(data_test, class_test)))\n",
    "    print(\"Точность ядра RBF: {:.2%}\".format(rbfC.score(data_test, class_test)))\n",
    "    print(\"Точность ядра Sigmoid: {:.2%}\".format(sigmoidC.score(data_test, class_test)))"
   ]
  },
  {
   "cell_type": "code",
   "execution_count": 30,
   "metadata": {},
   "outputs": [
    {
     "name": "stdout",
     "output_type": "stream",
     "text": [
      "C =  0.5\n",
      "Точность ядра Linear: 84.91%\n",
      "Точность ядра RBF: 95.74%\n",
      "Точность ядра Sigmoid: 3.76%\n"
     ]
    }
   ],
   "source": [
    "calcWhenC(data_train, class_train, data_test, class_test,0.5)"
   ]
  },
  {
   "cell_type": "code",
   "execution_count": 31,
   "metadata": {},
   "outputs": [
    {
     "name": "stdout",
     "output_type": "stream",
     "text": [
      "C =  10\n",
      "Точность ядра Linear: 84.70%\n",
      "Точность ядра RBF: 97.17%\n",
      "Точность ядра Sigmoid: 3.76%\n"
     ]
    }
   ],
   "source": [
    "calcWhenC(data_train, class_train, data_test, class_test,10)"
   ]
  },
  {
   "cell_type": "code",
   "execution_count": 32,
   "metadata": {},
   "outputs": [
    {
     "name": "stdout",
     "output_type": "stream",
     "text": [
      "C =  50\n",
      "Точность ядра Linear: 84.55%\n",
      "Точность ядра RBF: 97.16%\n",
      "Точность ядра Sigmoid: 3.76%\n"
     ]
    }
   ],
   "source": [
    "calcWhenC(data_train, class_train, data_test, class_test,50)"
   ]
  },
  {
   "cell_type": "markdown",
   "metadata": {},
   "source": [
    "| Ядро  |  С=0.5 |  C=1   | C=10 | C=50 |  \n",
    "|-------|--------|--------|------|------|  \n",
    "|Linear | 84.91% | 84.72% |84.70%|84.55%|\n",
    "|RBF    | 95.74% | 96.54% |97.17%|97.16%|\n",
    "|Sigmold| 3.76%  | 3.76%  |3.76%|3.76%|"
   ]
  },
  {
   "cell_type": "markdown",
   "metadata": {},
   "source": [
    "**Сравнение по параметру gamma ядра RBF**  \n",
    "При варьировании параметра С наилучший результат показало ядро RBF с С=10. Для определения возможности дальнейшего улучшения точности подберем оптимальный параметр gamma."
   ]
  },
  {
   "cell_type": "code",
   "execution_count": null,
   "metadata": {},
   "outputs": [],
   "source": [
    "def calcWhenGamma(data_train, class_train, data_test, class_test,gamma):\n",
    "    rbfGamma = svm.SVC(kernel=\"rbf\", C=10, gamma=gamma).fit(data_train, class_train)\n",
    "    print(\"Gamma = \",gamma,\":\\t{:.2%}\".format(rbfGamma.score(data_test, class_test)))"
   ]
  },
  {
   "cell_type": "code",
   "execution_count": 39,
   "metadata": {},
   "outputs": [
    {
     "name": "stdout",
     "output_type": "stream",
     "text": [
      "Gamma = 0.1:\t96.86%\n"
     ]
    }
   ],
   "source": [
    "calcWhenGamma(data_train, class_train, data_test, class_test,0.1)"
   ]
  },
  {
   "cell_type": "code",
   "execution_count": 40,
   "metadata": {},
   "outputs": [
    {
     "name": "stdout",
     "output_type": "stream",
     "text": [
      "Gamma = 0.1:\t73.29%\n"
     ]
    }
   ],
   "source": [
    "calcWhenGamma(data_train, class_train, data_test, class_test,0.5)"
   ]
  },
  {
   "cell_type": "code",
   "execution_count": 41,
   "metadata": {},
   "outputs": [
    {
     "name": "stdout",
     "output_type": "stream",
     "text": [
      "Gamma = 0.1:\t96.36%\n"
     ]
    }
   ],
   "source": [
    "calcWhenGamma(data_train, class_train, data_test, class_test,0.01)"
   ]
  },
  {
   "cell_type": "code",
   "execution_count": 42,
   "metadata": {},
   "outputs": [
    {
     "name": "stdout",
     "output_type": "stream",
     "text": [
      "Gamma = 0.1:\t97.31%\n"
     ]
    }
   ],
   "source": [
    "calcWhenGamma(data_train, class_train, data_test, class_test,0.05)"
   ]
  },
  {
   "cell_type": "code",
   "execution_count": 44,
   "metadata": {},
   "outputs": [
    {
     "name": "stdout",
     "output_type": "stream",
     "text": [
      "Gamma = 0.1:\t97.15%\n"
     ]
    }
   ],
   "source": [
    "calcWhenGamma(data_train, class_train, data_test, class_test,0.06)"
   ]
  },
  {
   "cell_type": "code",
   "execution_count": 45,
   "metadata": {},
   "outputs": [
    {
     "name": "stdout",
     "output_type": "stream",
     "text": [
      "Gamma = 0.1:\t97.41%\n"
     ]
    }
   ],
   "source": [
    "calcWhenGamma(data_train, class_train, data_test, class_test,0.04)"
   ]
  },
  {
   "cell_type": "code",
   "execution_count": 46,
   "metadata": {},
   "outputs": [
    {
     "name": "stdout",
     "output_type": "stream",
     "text": [
      "Gamma = 0.1:\t97.41%\n"
     ]
    }
   ],
   "source": [
    "calcWhenGamma(data_train, class_train, data_test, class_test,0.03)"
   ]
  },
  {
   "cell_type": "markdown",
   "metadata": {},
   "source": [
    "**Вывод**  \n",
    "В данной лабораторной работе была исследована эффективность применения метода опорных векторов для рассматриваемого датасета. Наилучшие результаты по скорости и приемлемые по точности показало ядро Linear, а ядро Sigmold, как оказалось, не подходит для решении задачи распознавания символов в этом датасете, так как его точность меньше 4%. Наилучший результат по точности показало ядро RBF c параметрами C=10 и gamma = 0.04."
   ]
  }
 ],
 "metadata": {
  "kernelspec": {
   "display_name": "Python 3",
   "language": "python",
   "name": "python3"
  },
  "language_info": {
   "codemirror_mode": {
    "name": "ipython",
    "version": 3
   },
   "file_extension": ".py",
   "mimetype": "text/x-python",
   "name": "python",
   "nbconvert_exporter": "python",
   "pygments_lexer": "ipython3",
   "version": "3.5.2"
  }
 },
 "nbformat": 4,
 "nbformat_minor": 2
}
